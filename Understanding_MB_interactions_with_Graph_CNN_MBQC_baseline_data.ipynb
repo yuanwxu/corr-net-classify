{
  "nbformat": 4,
  "nbformat_minor": 0,
  "metadata": {
    "colab": {
      "name": "Understanding MB interactions with Graph CNN-MBQC baseline data.ipynb",
      "provenance": [],
      "collapsed_sections": [],
      "toc_visible": true,
      "authorship_tag": "ABX9TyMQ8omjFBe4mYXIXZ9uz1hc",
      "include_colab_link": true
    },
    "kernelspec": {
      "name": "python3",
      "display_name": "Python 3"
    },
    "language_info": {
      "name": "python"
    }
  },
  "cells": [
    {
      "cell_type": "markdown",
      "metadata": {
        "id": "view-in-github",
        "colab_type": "text"
      },
      "source": [
        "<a href=\"https://colab.research.google.com/github/yuanwxu/corr-net-classify/blob/main/Understanding_MB_interactions_with_Graph_CNN_MBQC_baseline_data.ipynb\" target=\"_parent\"><img src=\"https://colab.research.google.com/assets/colab-badge.svg\" alt=\"Open In Colab\"/></a>"
      ]
    },
    {
      "cell_type": "markdown",
      "metadata": {
        "id": "PNELRe1n4I-y"
      },
      "source": [
        "# Use DGCNN algorithm to classify microbial co-abundance networks of CRC and Control - MBQC baseline data"
      ]
    },
    {
      "cell_type": "code",
      "metadata": {
        "nbsphinx": "hidden",
        "tags": [
          "CloudRunner"
        ],
        "id": "ePUwAus1F7td",
        "colab": {
          "base_uri": "https://localhost:8080/"
        },
        "outputId": "e48cacf7-e46a-4a43-ec27-5b2c7e7463c0"
      },
      "source": [
        "# install StellarGraph if running on Google Colab\n",
        "import sys\n",
        "if 'google.colab' in sys.modules:\n",
        "  %pip install -q stellargraph[demos]==1.2.1\n",
        "\n",
        "# verify that we're using the correct version of StellarGraph for this notebook\n",
        "import stellargraph as sg\n",
        "\n",
        "try:\n",
        "    sg.utils.validate_notebook_version(\"1.2.1\")\n",
        "except AttributeError:\n",
        "    raise ValueError(\n",
        "        f\"This notebook requires StellarGraph version 1.2.1, but a different version {sg.__version__} is installed.  Please see <https://github.com/stellargraph/stellargraph/issues/1172>.\"\n",
        "    ) from None"
      ],
      "execution_count": null,
      "outputs": [
        {
          "output_type": "stream",
          "text": [
            "\u001b[K     |████████████████████████████████| 440kB 29.5MB/s \n",
            "\u001b[K     |████████████████████████████████| 235kB 34.5MB/s \n",
            "\u001b[K     |████████████████████████████████| 51kB 7.5MB/s \n",
            "\u001b[?25h  Building wheel for mplleaflet (setup.py) ... \u001b[?25l\u001b[?25hdone\n"
          ],
          "name": "stdout"
        }
      ]
    },
    {
      "cell_type": "code",
      "metadata": {
        "id": "nFb5XCgMTMHM"
      },
      "source": [
        "import pandas as pd\n",
        "import numpy as np\n",
        "\n",
        "import stellargraph as sg\n",
        "from stellargraph.mapper import PaddedGraphGenerator\n",
        "from stellargraph.layer import DeepGraphCNN\n",
        "from stellargraph import StellarGraph\n",
        "\n",
        "from sklearn import model_selection\n",
        "\n",
        "from tensorflow.keras import Model\n",
        "from tensorflow.keras.optimizers import Adam\n",
        "from tensorflow.keras.layers import Dense, Conv1D, MaxPool1D, Dropout, Flatten\n",
        "from tensorflow.keras.losses import binary_crossentropy, categorical_crossentropy\n",
        "import tensorflow as tf"
      ],
      "execution_count": null,
      "outputs": []
    },
    {
      "cell_type": "code",
      "metadata": {
        "id": "8VzHJcON2_zi"
      },
      "source": [
        "import networkx as nx\n",
        "import matplotlib.pyplot as plt\n",
        "import matplotlib\n",
        "import matplotlib.cm as cm"
      ],
      "execution_count": null,
      "outputs": []
    },
    {
      "cell_type": "code",
      "metadata": {
        "id": "5j7FPaFrTXUi",
        "colab": {
          "base_uri": "https://localhost:8080/"
        },
        "outputId": "645dbe50-ec44-4fae-b1a6-c02ef3ae8dae"
      },
      "source": [
        "from google.colab import drive\n",
        "drive.mount('/content/drive')"
      ],
      "execution_count": null,
      "outputs": [
        {
          "output_type": "stream",
          "text": [
            "Mounted at /content/drive\n"
          ],
          "name": "stdout"
        }
      ]
    },
    {
      "cell_type": "code",
      "metadata": {
        "id": "nV4QV3B7XSIV"
      },
      "source": [
        "def read_graphs2(W, node_features=None):\n",
        "  \"\"\"Read graphs into list of StellarGraph instances\n",
        "     Args:\n",
        "          W: dataframe of graphs with 4 columns: graph_ind, source, target, weight\n",
        "  \"\"\"\n",
        "  out = list()\n",
        "  if node_features:\n",
        "    for _,g in W.groupby('graph_ind'):\n",
        "      out.append(StellarGraph(nodes=node_features,     \n",
        "                              edges=g.drop(columns='graph_ind'),\n",
        "                              node_type_default='microbe',\n",
        "                              edge_type_default='correlation'))  \n",
        "  else:\n",
        "    for _,g in W.groupby('graph_ind'):\n",
        "      out.append(StellarGraph(edges=g.drop(columns='graph_ind'),\n",
        "                              node_type_default='microbe',\n",
        "                              edge_type_default='correlation'))  \n",
        "  # Check all graphs have the same number of nodes\n",
        "  nn = [g.number_of_nodes() for g in out]\n",
        "  if not all(nn[0] == x for x in nn):\n",
        "      raise ValueError(\"Not all graphs have same number of nodes, possibly incorrect chunk size.\")\n",
        "  return out"
      ],
      "execution_count": null,
      "outputs": []
    },
    {
      "cell_type": "markdown",
      "metadata": {
        "id": "M9GvtnEW3UVd"
      },
      "source": [
        "## Build and train graph classification model"
      ]
    },
    {
      "cell_type": "code",
      "metadata": {
        "id": "WG0zz7QZStWb"
      },
      "source": [
        "def train_dgcnn(graphs, graph_labels, n_epochs=50):\n",
        "  \"\"\" Build and train DGCNN model for input graphs \"\"\"\n",
        "  generator = PaddedGraphGenerator(graphs=graphs)\n",
        "  k = graphs[0].number_of_nodes()  # the number of rows for the output tensor, no truncation\n",
        "                                 # done here because all graphs have same number of nodes\n",
        "  layer_sizes = [32, 32, 32, 1]\n",
        "\n",
        "  dgcnn_model = DeepGraphCNN(\n",
        "      layer_sizes=layer_sizes,\n",
        "      activations=[\"tanh\", \"tanh\", \"tanh\", \"tanh\"],\n",
        "      k=k,\n",
        "      bias=False,\n",
        "      generator=generator,\n",
        "  )\n",
        "  x_inp, x_out = dgcnn_model.in_out_tensors()\n",
        "  x_out = Conv1D(filters=16, kernel_size=sum(layer_sizes), strides=sum(layer_sizes))(x_out)\n",
        "  x_out = MaxPool1D(pool_size=2)(x_out)\n",
        "  x_out = Conv1D(filters=32, kernel_size=5, strides=1)(x_out)\n",
        "  x_out = Flatten()(x_out)\n",
        "  x_out = Dense(units=128, activation=\"relu\")(x_out)\n",
        "  x_out = Dropout(rate=0.5)(x_out)\n",
        "  predictions = Dense(units=1, activation=\"sigmoid\")(x_out)\n",
        "  model = Model(inputs=x_inp, outputs=predictions)\n",
        "  model.compile(\n",
        "      optimizer=Adam(learning_rate=0.0001), loss=binary_crossentropy, metrics=[\"acc\"],\n",
        "  )\n",
        "\n",
        "  train_graphs, test_graphs = model_selection.train_test_split(\n",
        "    graph_labels, train_size=0.8, test_size=None, stratify=graph_labels\n",
        "  )\n",
        "\n",
        "  gen = PaddedGraphGenerator(graphs=graphs)\n",
        "\n",
        "  # if use symmetric normalization, problem arise in negative degree values (because \n",
        "  # graph can have negative weights), and so can't take square root of those.\n",
        "  train_gen = gen.flow(\n",
        "      list(train_graphs.index),\n",
        "      targets=train_graphs.values,\n",
        "      batch_size=20,\n",
        "      symmetric_normalization=False, \n",
        "      weighted=True,\n",
        "  )\n",
        "\n",
        "  test_gen = gen.flow(\n",
        "      list(test_graphs.index),\n",
        "      targets=test_graphs.values,\n",
        "      batch_size=1,\n",
        "      symmetric_normalization=False,\n",
        "      weighted=True,\n",
        "  )\n",
        "\n",
        "  history = model.fit(\n",
        "    train_gen, epochs=n_epochs, verbose=0, validation_data=test_gen, shuffle=True\n",
        "  )\n",
        "  # Print test set metrics\n",
        "  test_metrics = model.evaluate(test_gen, verbose=0)\n",
        "  print(f'Test Set Metrics: ')\n",
        "  for name, val in zip(model.metrics_names, test_metrics):\n",
        "      print(\"\\t{}: {:0.4f}\".format(name, val))\n",
        "  \n",
        "  return model, history"
      ],
      "execution_count": null,
      "outputs": []
    },
    {
      "cell_type": "markdown",
      "metadata": {
        "id": "jvzThYAVJzc_"
      },
      "source": [
        "## Node/Edge importance"
      ]
    },
    {
      "cell_type": "code",
      "metadata": {
        "id": "sNkvA3_YkAP3"
      },
      "source": [
        "class ImportanceDGCNN:  \n",
        "\n",
        "  def __init__(self, W, node_features, model):\n",
        "    \"\"\"Initialize object for computing node/edge importance in predicting positive/negative class\n",
        "       resulting from the DGCNN graph classification model\n",
        "       Args:\n",
        "            W: dataframe of graphs with 4 columns: graph_ind, source, target, weight\n",
        "            node_features: used to build StellarGraph graph instance, same as read_graphs\n",
        "            model: the trained keras model of DGCNN\n",
        "    \"\"\"\n",
        "    self._W = W\n",
        "    self._node_features = node_features\n",
        "\n",
        "    # Check if all graphs have same number of edges\n",
        "    gsize = W.groupby('graph_ind').size() \n",
        "    if not all(x == gsize.iat[0] for x in gsize):\n",
        "      raise ValueError(\"Not all graphs have the same set of edges. This case is not implemented.\")\n",
        "\n",
        "    # Take any graph from W to find its edges\n",
        "    gid = W.iloc[0].at['graph_ind']\n",
        "    W1 = W[W['graph_ind'] == gid]\n",
        "    self.edges = list(zip(W1['source'], W1['target']))\n",
        "    self.nodes = node_features.index\n",
        "    self.ngraphs = W.groupby('graph_ind').ngroups\n",
        "    self.model = model\n",
        "\n",
        "  def _null_edge_graphs(self, val=0):\n",
        "    \"\"\" Generator of StellarGraph graphs with exactly one edge set to 'val' (default 0)\n",
        "    \"\"\"\n",
        "    for src, tar in self.edges:\n",
        "      cond = (self._W['source'] == src) & (self._W['target'] == tar)\n",
        "      W2 = self._W.copy()\n",
        "      W2['weight'].mask(cond, val, inplace=True) # set weights corresonding to edge to 0\n",
        "      for _, g in W2.groupby('graph_ind'):\n",
        "        yield StellarGraph(nodes=self._node_features, edges=g.drop(columns='graph_ind'),\n",
        "                           node_type_default='microbe', edge_type_default='correlation')\n",
        "\n",
        "\n",
        "  def _null_node_graphs(self):\n",
        "    \"\"\" Generator of StellarGraph graphs with all edges incident to a node set to 0\n",
        "    \"\"\"\n",
        "    for n in self.nodes:\n",
        "      cond = (self._W['source'] == n) | (self._W['target'] == n)\n",
        "      W2 = self._W.copy()\n",
        "      W2['weight'].mask(cond, 0, inplace=True)\n",
        "      for _, g in W2.groupby('graph_ind'):\n",
        "        yield StellarGraph(nodes=self._node_features, edges=g.drop(columns='graph_ind'),\n",
        "                           node_type_default='microbe', edge_type_default='correlation')\n",
        "        \n",
        "        \n",
        "  def _null_2nodes_graphs(self):\n",
        "    \"\"\"Generator of StellarGraph graphs with all edges incident to two nodes set to 0\n",
        "    \"\"\"\n",
        "    for n1, n2 in self.edges:\n",
        "      cond1 = (self._W['source'] == n1) | (self._W['target'] == n1)\n",
        "      cond2 = (self._W['source'] == n2) | (self._W['target'] == n2)\n",
        "      W2 = self._W.copy()\n",
        "      W2['weight'].mask(cond1 | cond2, 0, inplace=True)\n",
        "      for _, g in W2.groupby('graph_ind'):\n",
        "        yield StellarGraph(nodes=self._node_features, edges=g.drop(columns='graph_ind'),\n",
        "                           node_type_default='microbe', edge_type_default='correlation')\n",
        "        \n",
        "  def _null_nnodes_graphs(self, nlist):\n",
        "    \"\"\" Generator of StellarGraph graphs with all edges incident to n nodes set to 0,\n",
        "        Assume the first n-1 nodes are given so only the n'th node need chosen\n",
        "    \"\"\"\n",
        "    from functools import reduce\n",
        "    import operator\n",
        "\n",
        "    if not set(nlist).issubset(self.nodes):\n",
        "      raise ValueError(\"Not all provided nodes are found in the graph\")\n",
        "\n",
        "    conds = [(self._W['source'] == nd) | (self._W['target'] == nd) for nd in nlist]\n",
        "    for n in self.nodes:\n",
        "      if n in nlist:\n",
        "        continue\n",
        "      combined_cond = conds + [(self._W['source'] == n) | (self._W['target'] == n)]\n",
        "      reduced_cond = reduce(operator.or_, combined_cond)\n",
        "      W2 = self._W.copy()\n",
        "      W2['weight'].mask(reduced_cond, 0, inplace=True)\n",
        "      for _, g in W2.groupby('graph_ind'):\n",
        "        yield StellarGraph(nodes=self._node_features, edges=g.drop(columns='graph_ind'),\n",
        "                           node_type_default='microbe', edge_type_default='correlation')\n",
        "    \n",
        "        \n",
        "\n",
        "  @staticmethod\n",
        "  def _batch(iterable, n):\n",
        "    \"\"\" Generate prediction batch of size n, using the grouper idiom \"\"\"\n",
        "    iters = [iter(iterable)] * n\n",
        "    return zip(*iters)\n",
        "\n",
        "  @staticmethod\n",
        "  def compute_lor(pred, P_new):\n",
        "    \"\"\" Compute log-odds ratio between new and original graph predicted probs \n",
        "        Args:\n",
        "            pred: prediction on the original graphs, output of model.predict(),\n",
        "                  shape N-by-1, where N number of graph instances\n",
        "            P_new: predicition on new graphs, shape N-by-K, where K = number of\n",
        "                   edges/nodes depending on edge or node importance \n",
        "        Returns:\n",
        "            numpy array same shape as P_new\n",
        "    \"\"\"\n",
        "    eps = 1e-6\n",
        "    lo1 = np.log(P_new+eps) - np.log(1-P_new+eps)\n",
        "    lo2 = np.log(pred+eps) - np.log(1-pred+eps)\n",
        "    return lo1 - lo2\n",
        "\n",
        "  def read_sg(self):\n",
        "    \"\"\" Read graphs into list of StellarGraph instances \"\"\"\n",
        "    out = list()\n",
        "    for _,g in self._W.groupby('graph_ind'):\n",
        "      out.append(StellarGraph(nodes=self._node_features,     \n",
        "                              edges=g.drop(columns='graph_ind'),\n",
        "                              node_type_default='microbe',\n",
        "                              edge_type_default='correlation')) \n",
        "    return out \n",
        "\n",
        "  def predict_graph(self, graphs):\n",
        "    \"\"\"Use the model to predict the probability of positive class\n",
        "       Args:\n",
        "          graphs: list of StellarGraph graph instances\n",
        "    \"\"\"\n",
        "    fl = PaddedGraphGenerator(graphs=graphs).flow(range(len(graphs)), \n",
        "                                                  batch_size=len(graphs), \n",
        "                                                  symmetric_normalization=False, \n",
        "                                                  weighted=True)\n",
        "    return self.model.predict(fl)\n",
        "\n",
        "  def edge_imp(self, set_wt=0):\n",
        "    \"\"\"Calclate edge importance by log-odds ratio of the probability of the class \n",
        "       when an edge weight is set to 'set_wt' (default 0), to that of the original graph instance\n",
        "    \"\"\"\n",
        "    sg = self.read_sg()\n",
        "    pred = self.predict_graph(sg)\n",
        "    P_new = np.empty((self.ngraphs, len(self.edges)))\n",
        "    \n",
        "    gen = self._null_edge_graphs(set_wt)\n",
        "    for i, bch in enumerate(ImportanceDGCNN._batch(gen, self.ngraphs)):\n",
        "      pred_new = self.predict_graph(list(bch)).reshape(-1)\n",
        "      P_new[:,i] = pred_new\n",
        "      if i % 100 == 0: print(f'{i}: EDGE {self.edges[i]} DONE.')\n",
        "\n",
        "    LR = ImportanceDGCNN.compute_lor(pred, P_new)\n",
        "    stats = self.summary_stats(LR, 'edge')\n",
        "    self.LR_edge, self.LR_edge_stats = LR, stats\n",
        "    return stats, LR\n",
        "\n",
        "  def node_imp(self):\n",
        "    \"\"\"Calclate node importance by log-odds ratio of the probability of the class \n",
        "       when all incident edge weights are set to zero for that node, to that of the \n",
        "       original graph instance\n",
        "    \"\"\"\n",
        "    sg = self.read_sg()\n",
        "    pred = self.predict_graph(sg)\n",
        "    P_new = np.empty((self.ngraphs, len(self.nodes)))\n",
        "\n",
        "    gen = self._null_node_graphs()\n",
        "    for i, bch in enumerate(ImportanceDGCNN._batch(gen, self.ngraphs)):\n",
        "      pred_new = self.predict_graph(list(bch)).reshape(-1)\n",
        "      P_new[:,i] = pred_new\n",
        "\n",
        "    LR = ImportanceDGCNN.compute_lor(pred, P_new)\n",
        "    stats = self.summary_stats(LR, 'node')\n",
        "    self.LR_node, self.LR_node_stats = LR, stats\n",
        "    return stats, LR\n",
        "\n",
        "  def node_pair_imp(self):\n",
        "    \"\"\"Calculate node pair importance by knocking out each pair of nodes\n",
        "    \"\"\"\n",
        "    sg = self.read_sg()\n",
        "    pred = self.predict_graph(sg)\n",
        "    P_new = np.empty((self.ngraphs, len(self.edges)))\n",
        "\n",
        "    gen = self._null_2nodes_graphs()\n",
        "    for i, bch in enumerate(ImportanceDGCNN._batch(gen, self.ngraphs)):\n",
        "      pred_new = self.predict_graph(list(bch)).reshape(-1)\n",
        "      P_new[:,i] = pred_new\n",
        "      if i % 100 == 0: print(f'{i}: NODES {self.edges[i][0], self.edges[i][1]} DONE.')\n",
        "\n",
        "    LR = ImportanceDGCNN.compute_lor(pred, P_new)\n",
        "    stats = self.summary_stats(LR, 'node2')\n",
        "    self.LR_node2, self.LR_node2_stats = LR, stats\n",
        "    return stats, LR\n",
        "\n",
        "  def nnode_imp(self, n):\n",
        "    \"\"\"Calculate n-node importance by knocking out n nodes, using a greedy search\n",
        "       strategy where after the first node resulting in maximum change in LR is added,\n",
        "       the node from the remaining node set resulting in maximun change in LR is \n",
        "       added to form 2-node, and it continues until n nodes are added\n",
        "\n",
        "       Returns:\n",
        "            List of tuples. The first component is the names corresponding\n",
        "            to columns of LR, the second component is LR of shape (n_graphs, n_nodes-n+1).\n",
        "            Return all k-node importance from k = 1 to n\n",
        "    \"\"\"\n",
        "    sg = self.read_sg()\n",
        "    pred = self.predict_graph(sg)\n",
        "    n_full = list(self.nodes)\n",
        "    nlist = []\n",
        "\n",
        "    out = [] \n",
        "    for k in range(1, n+1):\n",
        "      P_new = np.empty((self.ngraphs, len(self.nodes)-k+1))\n",
        "      if k == 1:\n",
        "        gen = self._null_node_graphs()\n",
        "      else:\n",
        "        gen = self._null_nnodes_graphs(nlist)\n",
        "\n",
        "      for i, bch in enumerate(ImportanceDGCNN._batch(gen, self.ngraphs)):\n",
        "        pred_new = self.predict_graph(list(bch)).reshape(-1)\n",
        "        P_new[:,i] = pred_new\n",
        "\n",
        "      # Find which node to add to nlist\n",
        "      LR = ImportanceDGCNN.compute_lor(pred, P_new)\n",
        "      maxi = np.argmax(np.abs(np.median(LR, axis=0)))\n",
        "      n_remain = [nn for nn in n_full if nn not in nlist]\n",
        "      out.append(([tuple(nlist + [x]) for x in n_remain], LR))\n",
        "      nlist = nlist + [n_remain[maxi]]\n",
        "    \n",
        "    return out\n",
        "\n",
        "\n",
        "  def summary_stats(self, LR, which):\n",
        "    \"\"\" Get mean, median and std err of log-odds ratio \"\"\"\n",
        "    lor_mean, lor_med = np.mean(LR, axis=0), np.median(LR, axis=0)\n",
        "    lor_std = np.std(LR, axis=0)\n",
        "    df = pd.DataFrame({'lor_mean': lor_mean,\n",
        "                       'lor_med': lor_med, \n",
        "                       'std_err': lor_std/np.sqrt(LR.shape[0])})\n",
        "    if which == 'edge':\n",
        "      df['source'] = [e[0] for e in self.edges]\n",
        "      df['target'] = [e[1] for e in self.edges]\n",
        "\n",
        "    if which == 'node':\n",
        "      df['node'] = self.nodes\n",
        "    \n",
        "    if which == 'node2':\n",
        "      df['node1'] = [e[0] for e in self.edges]\n",
        "      df['node2'] = [e[1] for e in self.edges]\n",
        "    \n",
        "    return df"
      ],
      "execution_count": null,
      "outputs": []
    },
    {
      "cell_type": "markdown",
      "metadata": {
        "id": "MsexV5KPL1Mp"
      },
      "source": [
        "## Save results to Drive"
      ]
    },
    {
      "cell_type": "code",
      "metadata": {
        "id": "s11HYd4sMQLN"
      },
      "source": [
        "import pickle\n",
        "\n",
        "# Write results to Drive\n",
        "def save_imp_res(node_res, edge_res=None, runid='run'):\n",
        "  with open('/content/drive/MyDrive/MB_banocc_dgcnn/MBQC_Baseline/'+runid+'_'+'imp_res.pkl', 'wb') as pickle_out:\n",
        "    pickle.dump(node_res, pickle_out) # serialize node importance result\n",
        "    if edge_res:\n",
        "      pickle.dump(edge_res, pickle_out)"
      ],
      "execution_count": null,
      "outputs": []
    },
    {
      "cell_type": "markdown",
      "metadata": {
        "id": "Uk_Mybu0MweR"
      },
      "source": [
        "# Main script"
      ]
    },
    {
      "cell_type": "markdown",
      "metadata": {
        "id": "sBFK3xFONma0"
      },
      "source": [
        "Load posterial log-basis correlation matrices inferred from compositional data\n",
        "\n",
        "This is inferred from BAnOCC algorithm separately for CRC samples of microbial abundance, and for health control samples, both using compositional data."
      ]
    },
    {
      "cell_type": "markdown",
      "metadata": {
        "id": "mqTfulBUhGhn"
      },
      "source": [
        "In order for StellarGraph DGCNN to work, one must pass node features. For the current problem we use the identity matrix. We obtain node indices by reading the graphs without passing in node features. These will then be used to create a StellarGraph.IndexedArray instance. The graphs are built again with node features and used for training."
      ]
    },
    {
      "cell_type": "markdown",
      "metadata": {
        "id": "Ub1DuxNuwqyX"
      },
      "source": [
        "## 1- and 2-node importance"
      ]
    },
    {
      "cell_type": "code",
      "metadata": {
        "id": "YiKY1929M7NR"
      },
      "source": [
        "# runid = 'r1node'\n",
        "runid = 'r2node'\n",
        "dgcnn_history = {}\n",
        "K = 10 # number of DGCNN runs\n",
        "N_EPOCH = 100 # number of epochs per run\n",
        "sample_frac = 0.4 # fraction of graphs sampled per iter used to calculate importance"
      ],
      "execution_count": null,
      "outputs": []
    },
    {
      "cell_type": "code",
      "metadata": {
        "id": "aB33B5cHRN19"
      },
      "source": [
        "W_mbc = pd.read_csv('/content/drive/MyDrive/MB_banocc_dgcnn/MBQC_Baseline/W_mbc.csv', dtype={'graph_ind': 'int'})\n",
        "W_mbcrc = pd.read_csv('/content/drive/MyDrive/MB_banocc_dgcnn/MBQC_Baseline/W_mbcrc.csv', dtype={'graph_ind': 'int'})\n",
        "\n",
        "nodes = read_graphs2(W_mbc)[0].nodes() # node labels\n",
        "feature_array = np.identity(len(nodes)) # feature array taken as identity matrix\n",
        "node_features = sg.IndexedArray(feature_array, index=list(nodes))\n",
        "cg = read_graphs2(W_mbc, node_features)\n",
        "crcg = read_graphs2(W_mbcrc, node_features)\n",
        "graphs = cg + crcg\n",
        "graph_labels = pd.Series(len(cg) * ['C'] + len(crcg) * ['CRC'])\n",
        "graph_labels = pd.get_dummies(graph_labels, drop_first=True)\n",
        "\n",
        "ngraphs = max(W_mbcrc['graph_ind'])\n",
        "history = []\n",
        "node_lor = []\n",
        "for _ in range(K):\n",
        "  model, hist = train_dgcnn(graphs, graph_labels, n_epochs=N_EPOCH)\n",
        "  history.append(hist)\n",
        "\n",
        "  # Sample a subset of graphs from W_mbcrc\n",
        "  rind = 1 + np.random.choice(ngraphs, size=round(ngraphs*sample_frac), replace=False)\n",
        "  W_mbcrc2 = W_mbcrc[W_mbcrc['graph_ind'].isin(rind)]\n",
        "  imp_calculator = ImportanceDGCNN(W_mbcrc2, node_features, model)\n",
        "  # _, LR = imp_calculator.node_imp() # 1-node imp\n",
        "  # node_lor.append(LR)\n",
        "  _, LR = imp_calculator.node_pair_imp() # 2-node imp\n",
        "  node_lor.append(LR)\n",
        "\n",
        "# Merge arrays of log-odds ratio from all K iteration outputs, stats data frame from each\n",
        "# individual iteration disgarded\n",
        "# node_res = (list(nodes), np.vstack(node_lor))\n",
        "node_res = (imp_calculator.edges, np.vstack(node_lor))\n",
        "dgcnn_history[runid] = history\n",
        "save_imp_res(node_res, runid=runid)"
      ],
      "execution_count": null,
      "outputs": []
    },
    {
      "cell_type": "markdown",
      "metadata": {
        "id": "0D7o853yyu9L"
      },
      "source": [
        "Plot the training history"
      ]
    },
    {
      "cell_type": "code",
      "metadata": {
        "colab": {
          "base_uri": "https://localhost:8080/",
          "height": 585
        },
        "id": "CFviB1Cuax6m",
        "outputId": "82e73d86-a54b-4e90-8d77-cf6f4c7d8249"
      },
      "source": [
        "fig = sg.utils.plot_history(dgcnn_history['r1node'], return_figure=True)\n",
        "fig.savefig('/content/drive/MyDrive/MB_banocc_dgcnn/MBQC_Baseline/history_r1node.png')"
      ],
      "execution_count": null,
      "outputs": [
        {
          "output_type": "display_data",
          "data": {
            "image/png": "[encoded data removed]",
            "text/plain": [
              "<Figure size 504x576 with 2 Axes>"
            ]
          },
          "metadata": {
            "tags": [],
            "needs_background": "light"
          }
        }
      ]
    },
    {
      "cell_type": "markdown",
      "metadata": {
        "id": "Wu8LBwp4wv_b"
      },
      "source": [
        "## n-node importance (greedy search)"
      ]
    },
    {
      "cell_type": "code",
      "metadata": {
        "id": "pdQmyXFcw0W3"
      },
      "source": [
        "runid = 'rnnode'\n",
        "dgcnn_history = {}\n",
        "K = 10 # number of DGCNN runs\n",
        "N_EPOCH = 100 # number of epochs per run\n",
        "sample_frac = 0.4 # fraction of graphs sampled per iter used to calculate importance\n",
        "n = 20 # n-node importance is desired"
      ],
      "execution_count": null,
      "outputs": []
    },
    {
      "cell_type": "code",
      "metadata": {
        "id": "C3i5GT8O9k30",
        "colab": {
          "base_uri": "https://localhost:8080/"
        },
        "outputId": "27d9d479-507f-4ead-9a89-cfcdb4b1c504"
      },
      "source": [
        "W_mbc = pd.read_csv('/content/drive/MyDrive/MB_banocc_dgcnn/MBQC_Baseline/W_mbc.csv', dtype={'graph_ind': 'int'})\n",
        "W_mbcrc = pd.read_csv('/content/drive/MyDrive/MB_banocc_dgcnn/MBQC_Baseline/W_mbcrc.csv', dtype={'graph_ind': 'int'})\n",
        "\n",
        "nodes = read_graphs2(W_mbc)[0].nodes() # node labels\n",
        "feature_array = np.identity(len(nodes)) # feature array taken as identity matrix\n",
        "node_features = sg.IndexedArray(feature_array, index=list(nodes))\n",
        "cg = read_graphs2(W_mbc, node_features)\n",
        "crcg = read_graphs2(W_mbcrc, node_features)\n",
        "graphs = cg + crcg\n",
        "graph_labels = pd.Series(len(cg) * ['C'] + len(crcg) * ['CRC'])\n",
        "graph_labels = pd.get_dummies(graph_labels, drop_first=True)\n",
        "\n",
        "ngraphs = max(W_mbcrc['graph_ind'])\n",
        "history = []\n",
        "node_lor = []\n",
        "for _ in range(K):\n",
        "  model, hist = train_dgcnn(graphs, graph_labels, n_epochs=N_EPOCH)\n",
        "  history.append(hist)\n",
        "\n",
        "  # Sample a subset of graphs from W_mbcrc\n",
        "  rind = 1 + np.random.choice(ngraphs, size=round(ngraphs*sample_frac), replace=False)\n",
        "  W_mbcrc2 = W_mbcrc[W_mbcrc['graph_ind'].isin(rind)]\n",
        "  imp_calculator = ImportanceDGCNN(W_mbcrc2, node_features, model)\n",
        "  nn_imp = imp_calculator.nnode_imp(n) # n-node imp\n",
        "\n",
        "  # Each model can result in different selected k-nodes (k=1,...,n), so will not\n",
        "  # attempt to combine the log-odds ratio arrays\n",
        "  node_lor.append(nn_imp) \n",
        "\n",
        "dgcnn_history[runid] = history\n",
        "save_imp_res(node_lor, runid=runid)"
      ],
      "execution_count": null,
      "outputs": [
        {
          "output_type": "stream",
          "text": [
            "WARNING:tensorflow:From /usr/local/lib/python3.7/dist-packages/tensorflow/python/util/deprecation.py:602: calling map_fn_v2 (from tensorflow.python.ops.map_fn) with dtype is deprecated and will be removed in a future version.\n",
            "Instructions for updating:\n",
            "Use fn_output_signature instead\n",
            "WARNING:tensorflow:From /usr/local/lib/python3.7/dist-packages/tensorflow/python/ops/array_ops.py:5049: calling gather (from tensorflow.python.ops.array_ops) with validate_indices is deprecated and will be removed in a future version.\n",
            "Instructions for updating:\n",
            "The `validate_indices` argument has no effect. Indices are always validated on CPU and never validated on GPU.\n"
          ],
          "name": "stdout"
        },
        {
          "output_type": "stream",
          "text": [
            "/usr/local/lib/python3.7/dist-packages/tensorflow/python/framework/indexed_slices.py:449: UserWarning: Converting sparse IndexedSlices(IndexedSlices(indices=Tensor(\"gradient_tape/model/sort_pooling/map/while/gradients/model/sort_pooling/map/while/GatherV2_grad/Reshape_1:0\", shape=(None,), dtype=int32), values=Tensor(\"gradient_tape/model/sort_pooling/map/while/gradients/model/sort_pooling/map/while/GatherV2_grad/Reshape:0\", shape=(None, None), dtype=float32), dense_shape=Tensor(\"gradient_tape/model/sort_pooling/map/while/gradients/model/sort_pooling/map/while/GatherV2_grad/Cast:0\", shape=(2,), dtype=int32))) to a dense Tensor of unknown shape. This may consume a large amount of memory.\n",
            "  \"shape. This may consume a large amount of memory.\" % value)\n"
          ],
          "name": "stderr"
        },
        {
          "output_type": "stream",
          "text": [
            "Test Set Metrics: \n",
            "\tloss: 0.0550\n",
            "\tacc: 0.9750\n"
          ],
          "name": "stdout"
        },
        {
          "output_type": "stream",
          "text": [
            "/usr/local/lib/python3.7/dist-packages/tensorflow/python/framework/indexed_slices.py:449: UserWarning: Converting sparse IndexedSlices(IndexedSlices(indices=Tensor(\"gradient_tape/model_1/sort_pooling_1/map/while/gradients/model_1/sort_pooling_1/map/while/GatherV2_grad/Reshape_1:0\", shape=(None,), dtype=int32), values=Tensor(\"gradient_tape/model_1/sort_pooling_1/map/while/gradients/model_1/sort_pooling_1/map/while/GatherV2_grad/Reshape:0\", shape=(None, None), dtype=float32), dense_shape=Tensor(\"gradient_tape/model_1/sort_pooling_1/map/while/gradients/model_1/sort_pooling_1/map/while/GatherV2_grad/Cast:0\", shape=(2,), dtype=int32))) to a dense Tensor of unknown shape. This may consume a large amount of memory.\n",
            "  \"shape. This may consume a large amount of memory.\" % value)\n"
          ],
          "name": "stderr"
        },
        {
          "output_type": "stream",
          "text": [
            "Test Set Metrics: \n",
            "\tloss: 0.0339\n",
            "\tacc: 0.9875\n"
          ],
          "name": "stdout"
        }
      ]
    },
    {
      "cell_type": "markdown",
      "metadata": {
        "id": "HoJT9ljL_yWK"
      },
      "source": [
        "# Test script"
      ]
    },
    {
      "cell_type": "code",
      "metadata": {
        "id": "H4RWw1vCAGRF"
      },
      "source": [
        "runid = 'MBQC_Baseline'\n",
        "W_mbc = pd.read_csv('/content/drive/MyDrive/MB_banocc_dgcnn/' + runid + '/W_mbc.csv', dtype={'graph_ind': 'int'})\n",
        "W_mbcrc = pd.read_csv('/content/drive/MyDrive/MB_banocc_dgcnn/' + runid + '/W_mbcrc.csv', dtype={'graph_ind': 'int'})\n",
        "nodes = read_graphs2(W_mbc)[0].nodes() # node labels\n",
        "feature_array = np.identity(len(nodes)) # feature array taken as identity matrix\n",
        "node_features = sg.IndexedArray(feature_array, index=list(nodes))\n",
        "cg = read_graphs2(W_mbc, node_features)\n",
        "crcg = read_graphs2(W_mbcrc, node_features)\n",
        "graphs = cg + crcg\n",
        "graph_labels = pd.Series(len(cg) * ['C'] + len(crcg) * ['CRC'])\n",
        "graph_labels = pd.get_dummies(graph_labels, drop_first=True)\n",
        "\n",
        "ngraphs = max(W_mbcrc['graph_ind'])"
      ],
      "execution_count": null,
      "outputs": []
    },
    {
      "cell_type": "code",
      "metadata": {
        "colab": {
          "base_uri": "https://localhost:8080/"
        },
        "id": "PsAWiZVXATLC",
        "outputId": "3efc9d15-f8cf-419e-8882-5b6951ed91eb"
      },
      "source": [
        "model, hist = train_dgcnn(graphs, graph_labels, n_epochs=100)"
      ],
      "execution_count": null,
      "outputs": [
        {
          "output_type": "stream",
          "text": [
            "WARNING:tensorflow:From /usr/local/lib/python3.7/dist-packages/tensorflow/python/util/deprecation.py:605: calling map_fn_v2 (from tensorflow.python.ops.map_fn) with dtype is deprecated and will be removed in a future version.\n",
            "Instructions for updating:\n",
            "Use fn_output_signature instead\n"
          ],
          "name": "stdout"
        },
        {
          "output_type": "stream",
          "text": [
            "/usr/local/lib/python3.7/dist-packages/tensorflow/python/framework/indexed_slices.py:437: UserWarning: Converting sparse IndexedSlices(IndexedSlices(indices=Tensor(\"gradient_tape/model/sort_pooling/map/while/gradients/model/sort_pooling/map/while/GatherV2_grad/Reshape_1:0\", shape=(None,), dtype=int32), values=Tensor(\"gradient_tape/model/sort_pooling/map/while/gradients/model/sort_pooling/map/while/GatherV2_grad/Reshape:0\", shape=(None, None), dtype=float32), dense_shape=Tensor(\"gradient_tape/model/sort_pooling/map/while/gradients/model/sort_pooling/map/while/GatherV2_grad/Cast:0\", shape=(2,), dtype=int32))) to a dense Tensor of unknown shape. This may consume a large amount of memory.\n",
            "  \"shape. This may consume a large amount of memory.\" % value)\n"
          ],
          "name": "stderr"
        },
        {
          "output_type": "stream",
          "text": [
            "Test Set Metrics: \n",
            "\tloss: 0.0030\n",
            "\tacc: 1.0000\n"
          ],
          "name": "stdout"
        }
      ]
    },
    {
      "cell_type": "code",
      "metadata": {
        "id": "yzmSe7x2AfOS"
      },
      "source": [
        "imp_calculator = ImportanceDGCNN(W_mbcrc, node_features, model)"
      ],
      "execution_count": null,
      "outputs": []
    },
    {
      "cell_type": "code",
      "metadata": {
        "colab": {
          "base_uri": "https://localhost:8080/"
        },
        "id": "umps6Uf3AumB",
        "outputId": "d4a9fb34-b6c3-4bf2-cec7-2224aaba81cd"
      },
      "source": [
        "stats, LR = imp_calculator.node_pair_imp()"
      ],
      "execution_count": null,
      "outputs": [
        {
          "output_type": "stream",
          "text": [
            "0: NODES (('g__Bifidobacterium', 'g__Eggerthella')) DONE.\n",
            "100: NODES (('g__Streptococcus', 'g__Blautia')) DONE.\n",
            "200: NODES (('g__Clostridium', 'f__Lachnospiraceae')) DONE.\n",
            "300: NODES (('g__Bifidobacterium', 'f__Ruminococcaceae')) DONE.\n",
            "400: NODES (('g__Faecalibacterium', 'g__Veillonella')) DONE.\n",
            "500: NODES (('g__Parabacteroides', 'g__[Eubacterium]')) DONE.\n",
            "600: NODES (('g__Prevotella', 'g__Bilophila')) DONE.\n",
            "700: NODES (('g__Sutterella', 'g__Haemophilus')) DONE.\n"
          ],
          "name": "stdout"
        }
      ]
    },
    {
      "cell_type": "code",
      "metadata": {
        "id": "Cf7E1xg6mYe6"
      },
      "source": [
        "import seaborn as sns\n",
        "sns.set_theme(style=\"whitegrid\")\n",
        "\n",
        "def plot_lor(imp_res, K, by_med=True):\n",
        "  \"\"\" Plot log odds ratio for some edges or nodes, determined automatically from input\n",
        "  Args:\n",
        "      imp_res: result from either edge_imp or node_imp instance method, \n",
        "               a tuple with two components: a summary dataframe and\n",
        "               the LR matrix with shape #graphs-by-#nodes/edges\n",
        "      K:  top K edges/nodes that when removed resulted in max change in log odds \n",
        "  \"\"\"\n",
        "  df, LR = imp_res\n",
        "  lor = df['lor_med'] if by_med else df['lor_mean']\n",
        "  max_ind = np.argsort(-abs(lor))[:K] # indices of K edges/nodes\n",
        "\n",
        "  df_long = pd.concat([pd.DataFrame({'node1': df.iloc[i].at['node1'], \n",
        "                                  'node2': df.iloc[i].at['node2'], \n",
        "                                  'lor': LR[:, i]}) for i in max_ind], \n",
        "                    ignore_index=True)\n",
        "  df_long = df_long.assign(node_pair=df_long['node1'] + ',' + df_long['node2'])\n",
        "  ax = sns.boxplot(x=\"node_pair\", y=\"lor\", data=df_long)\n",
        "\n",
        "  ax.set_xticklabels(ax.get_xticklabels(),rotation=90)\n",
        "\n",
        "  \n",
        "                                      "
      ],
      "execution_count": null,
      "outputs": []
    },
    {
      "cell_type": "code",
      "metadata": {
        "colab": {
          "base_uri": "https://localhost:8080/",
          "height": 486
        },
        "id": "nlTCdcwFA0uB",
        "outputId": "7d9419c9-2b9c-4e9e-b246-c16c0aa0334b"
      },
      "source": [
        "plot_lor((stats, LR), K = 8)"
      ],
      "execution_count": null,
      "outputs": [
        {
          "output_type": "display_data",
          "data": {
            "image/png": "[encoded data removed]",
            "text/plain": [
              "<Figure size 432x288 with 1 Axes>"
            ]
          },
          "metadata": {
            "tags": []
          }
        }
      ]
    },
    {
      "cell_type": "markdown",
      "metadata": {
        "id": "SzGIlsrmqSNt"
      },
      "source": [
        "## n-node"
      ]
    },
    {
      "cell_type": "code",
      "metadata": {
        "id": "45ThDsu9_6Sn"
      },
      "source": [
        "runid = 'rnnode'\n",
        "W_mbc = pd.read_csv('/content/drive/MyDrive/MB_banocc_dgcnn/MBQC_Baseline/W_mbc.csv', dtype={'graph_ind': 'int'})\n",
        "W_mbcrc = pd.read_csv('/content/drive/MyDrive/MB_banocc_dgcnn/MBQC_Baseline/W_mbcrc.csv', dtype={'graph_ind': 'int'})\n",
        "nodes = read_graphs2(W_mbc)[0].nodes() # node labels\n",
        "feature_array = np.identity(len(nodes)) # feature array taken as identity matrix\n",
        "node_features = sg.IndexedArray(feature_array, index=list(nodes))\n",
        "cg = read_graphs2(W_mbc, node_features)\n",
        "crcg = read_graphs2(W_mbcrc, node_features)\n",
        "graphs = cg + crcg\n",
        "graph_labels = pd.Series(len(cg) * ['C'] + len(crcg) * ['CRC'])\n",
        "graph_labels = pd.get_dummies(graph_labels, drop_first=True)\n",
        "\n",
        "ngraphs = max(W_mbcrc['graph_ind'])"
      ],
      "execution_count": null,
      "outputs": []
    },
    {
      "cell_type": "code",
      "metadata": {
        "colab": {
          "base_uri": "https://localhost:8080/"
        },
        "id": "x3bFbuegqyYD",
        "outputId": "7e0d6028-01e8-4aa0-8dd2-a51c491bef25"
      },
      "source": [
        "model, hist = train_dgcnn(graphs, graph_labels, n_epochs=100)"
      ],
      "execution_count": null,
      "outputs": [
        {
          "output_type": "stream",
          "text": [
            "WARNING:tensorflow:From /usr/local/lib/python3.7/dist-packages/tensorflow/python/util/deprecation.py:602: calling map_fn_v2 (from tensorflow.python.ops.map_fn) with dtype is deprecated and will be removed in a future version.\n",
            "Instructions for updating:\n",
            "Use fn_output_signature instead\n",
            "WARNING:tensorflow:From /usr/local/lib/python3.7/dist-packages/tensorflow/python/ops/array_ops.py:5049: calling gather (from tensorflow.python.ops.array_ops) with validate_indices is deprecated and will be removed in a future version.\n",
            "Instructions for updating:\n",
            "The `validate_indices` argument has no effect. Indices are always validated on CPU and never validated on GPU.\n"
          ],
          "name": "stdout"
        },
        {
          "output_type": "stream",
          "text": [
            "/usr/local/lib/python3.7/dist-packages/tensorflow/python/framework/indexed_slices.py:449: UserWarning: Converting sparse IndexedSlices(IndexedSlices(indices=Tensor(\"gradient_tape/model/sort_pooling/map/while/gradients/model/sort_pooling/map/while/GatherV2_grad/Reshape_1:0\", shape=(None,), dtype=int32), values=Tensor(\"gradient_tape/model/sort_pooling/map/while/gradients/model/sort_pooling/map/while/GatherV2_grad/Reshape:0\", shape=(None, None), dtype=float32), dense_shape=Tensor(\"gradient_tape/model/sort_pooling/map/while/gradients/model/sort_pooling/map/while/GatherV2_grad/Cast:0\", shape=(2,), dtype=int32))) to a dense Tensor of unknown shape. This may consume a large amount of memory.\n",
            "  \"shape. This may consume a large amount of memory.\" % value)\n"
          ],
          "name": "stderr"
        },
        {
          "output_type": "stream",
          "text": [
            "Test Set Metrics: \n",
            "\tloss: 0.0187\n",
            "\tacc: 0.9875\n"
          ],
          "name": "stdout"
        }
      ]
    },
    {
      "cell_type": "code",
      "metadata": {
        "id": "zwu_N409u6YH"
      },
      "source": [
        "rind = 1 + np.random.choice(ngraphs, size=round(ngraphs*0.4), replace=False)\n",
        "W_mbcrc2 = W_mbcrc[W_mbcrc['graph_ind'].isin(rind)]"
      ],
      "execution_count": null,
      "outputs": []
    },
    {
      "cell_type": "code",
      "metadata": {
        "id": "_XxKjKJkq7eA"
      },
      "source": [
        "imp_calculator = ImportanceDGCNN(W_mbcrc2, node_features, model)"
      ],
      "execution_count": null,
      "outputs": []
    },
    {
      "cell_type": "code",
      "metadata": {
        "id": "U7XAy3HvrdcL"
      },
      "source": [
        "out = imp_calculator.nnode_imp(4, ['g__Bifidobacterium', 'f__Lachnospiraceae'])"
      ],
      "execution_count": null,
      "outputs": []
    }
  ]
}